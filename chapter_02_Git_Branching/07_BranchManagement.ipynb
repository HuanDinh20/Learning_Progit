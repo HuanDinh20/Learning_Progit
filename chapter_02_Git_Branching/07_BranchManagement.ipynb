{
 "cells": [
  {
   "cell_type": "markdown",
   "source": [
    "# Branch Management\n",
    "Now that you’ve created, merged, and deleted some branches, let’s look at some branch\u0002management tools that will come in handy when you begin using branches all the time\n",
    "\n",
    "The git branch command does more than just create and delete branches. If you run it with no\n",
    "arguments, you get a simple listing of your current branches"
   ],
   "metadata": {
    "collapsed": false,
    "pycharm": {
     "name": "#%% md\n"
    }
   }
  },
  {
   "cell_type": "code",
   "execution_count": 3,
   "outputs": [
    {
     "name": "stdout",
     "output_type": "stream",
     "text": [
      "* master\n",
      "  testing\n",
      "  version2\n"
     ]
    }
   ],
   "source": [
    "!git branch"
   ],
   "metadata": {
    "collapsed": false,
    "pycharm": {
     "name": "#%%\n"
    }
   }
  },
  {
   "cell_type": "markdown",
   "source": [
    "Notice the * character that prefixes the master branch: it indicates the branch that you currently\n",
    "have checked out (i.e., the branch that HEAD points to). This means that if you commit at this point,\n",
    "the master branch will be moved forward with your new work. To see the last commit on each\n",
    "branch, you can run git branch -v:"
   ],
   "metadata": {
    "collapsed": false,
    "pycharm": {
     "name": "#%% md\n"
    }
   }
  },
  {
   "cell_type": "markdown",
   "source": [
    "**see the last commit on each branch use: git branch -v**"
   ],
   "metadata": {
    "collapsed": false,
    "pycharm": {
     "name": "#%% md\n"
    }
   }
  },
  {
   "cell_type": "code",
   "execution_count": 4,
   "outputs": [
    {
     "name": "stdout",
     "output_type": "stream",
     "text": [
      "* master   0ad9211 Combine merge\n",
      "  testing  98aedc6 make other changes\n",
      "  version2 5560a81 an overview about branches in git\n"
     ]
    }
   ],
   "source": [
    "!git branch -v"
   ],
   "metadata": {
    "collapsed": false,
    "pycharm": {
     "name": "#%%\n"
    }
   }
  },
  {
   "cell_type": "markdown",
   "source": [
    "The useful `--merged` and `--no-merged` options can filter this list to branches that you have or have not\n",
    "yet merged into the branch you’re currently on"
   ],
   "metadata": {
    "collapsed": false,
    "pycharm": {
     "name": "#%% md\n"
    }
   }
  },
  {
   "cell_type": "code",
   "execution_count": 5,
   "outputs": [
    {
     "name": "stdout",
     "output_type": "stream",
     "text": [
      "* master\n",
      "  testing\n",
      "  version2\n"
     ]
    }
   ],
   "source": [
    "!git branch --merged"
   ],
   "metadata": {
    "collapsed": false,
    "pycharm": {
     "name": "#%%\n"
    }
   }
  },
  {
   "cell_type": "code",
   "execution_count": 6,
   "outputs": [],
   "source": [
    "!git branch --no-merged"
   ],
   "metadata": {
    "collapsed": false,
    "pycharm": {
     "name": "#%%\n"
    }
   }
  },
  {
   "cell_type": "code",
   "execution_count": 7,
   "outputs": [],
   "source": [
    "!git branch --no-merged master"
   ],
   "metadata": {
    "collapsed": false,
    "pycharm": {
     "name": "#%%\n"
    }
   }
  },
  {
   "cell_type": "markdown",
   "source": [
    "## Changing a branch name\n",
    "Suppose you have a branch that is called bad-branch-name and you want to change it to corrected-branch-name, while keeping all history."
   ],
   "metadata": {
    "collapsed": false,
    "pycharm": {
     "name": "#%% md\n"
    }
   }
  },
  {
   "cell_type": "markdown",
   "source": [
    "Rename the branch locally with the git branch --move command"
   ],
   "metadata": {
    "collapsed": false,
    "pycharm": {
     "name": "#%% md\n"
    }
   }
  },
  {
   "cell_type": "code",
   "execution_count": 8,
   "outputs": [],
   "source": [
    "!git branch --move bad-branch-name corrected-branch-name"
   ],
   "metadata": {
    "collapsed": false,
    "pycharm": {
     "name": "#%%\n"
    }
   }
  },
  {
   "cell_type": "code",
   "execution_count": 9,
   "outputs": [
    {
     "name": "stdout",
     "output_type": "stream",
     "text": [
      "* corrected-branch-name\n",
      "  master\n",
      "  testing\n",
      "  version2\n"
     ]
    }
   ],
   "source": [
    "!git branch"
   ],
   "metadata": {
    "collapsed": false,
    "pycharm": {
     "name": "#%%\n"
    }
   }
  },
  {
   "cell_type": "raw",
   "source": [
    "To let others see the corrected branch on the remote, push it:"
   ],
   "metadata": {
    "collapsed": false,
    "pycharm": {
     "name": "#%% raw\n"
    }
   }
  },
  {
   "cell_type": "code",
   "execution_count": 11,
   "outputs": [
    {
     "name": "stdout",
     "output_type": "stream",
     "text": [
      "branch 'corrected-branch-name' set up to track 'origin/corrected-branch-name'.\n"
     ]
    },
    {
     "name": "stderr",
     "output_type": "stream",
     "text": [
      "remote: \n",
      "remote: Create a pull request for 'corrected-branch-name' on GitHub by visiting:        \n",
      "remote:      https://github.com/HuanDinh20/Learning_Progit/pull/new/corrected-branch-name        \n",
      "remote: \n",
      "To https://github.com/HuanDinh20/Learning_Progit.git\n",
      " * [new branch]      corrected-branch-name -> corrected-branch-name\n"
     ]
    }
   ],
   "source": [
    "!git push --set-upstream origin corrected-branch-name"
   ],
   "metadata": {
    "collapsed": false,
    "pycharm": {
     "name": "#%%\n"
    }
   }
  },
  {
   "cell_type": "markdown",
   "source": [
    "Now we’ll take a brief look at where we are now:"
   ],
   "metadata": {
    "collapsed": false,
    "pycharm": {
     "name": "#%% md\n"
    }
   }
  },
  {
   "cell_type": "code",
   "execution_count": 12,
   "outputs": [
    {
     "name": "stdout",
     "output_type": "stream",
     "text": [
      "  corrected-branch-name\n",
      "* master\n",
      "  testing\n",
      "  version2\n",
      "  remotes/origin/corrected-branch-name\n",
      "  remotes/origin/master\n"
     ]
    }
   ],
   "source": [
    "!git branch --all"
   ],
   "metadata": {
    "collapsed": false,
    "pycharm": {
     "name": "#%%\n"
    }
   }
  },
  {
   "cell_type": "code",
   "execution_count": 13,
   "outputs": [
    {
     "name": "stderr",
     "output_type": "stream",
     "text": [
      "To https://github.com/HuanDinh20/Learning_Progit.git\n",
      " - [deleted]         corrected-branch-name\n"
     ]
    }
   ],
   "source": [
    "!git push origin --delete corrected-branch-name"
   ],
   "metadata": {
    "collapsed": false,
    "pycharm": {
     "name": "#%%\n"
    }
   }
  },
  {
   "cell_type": "code",
   "execution_count": 14,
   "outputs": [
    {
     "name": "stdout",
     "output_type": "stream",
     "text": [
      "  corrected-branch-name\n",
      "* master\n",
      "  testing\n",
      "  version2\n",
      "  remotes/origin/master\n"
     ]
    }
   ],
   "source": [
    "!git branch --all"
   ],
   "metadata": {
    "collapsed": false,
    "pycharm": {
     "name": "#%%\n"
    }
   }
  },
  {
   "cell_type": "markdown",
   "source": [
    "## Changing the master branch name\n",
    "Changing the name of a branch like master/main/mainline/default will break the integrations, services, helper utilities and build/release scripts that your repository uses. Before you do this, make sure you consult with your collaborators. Also, make sure you do a thorough search through your repo and update any references to the old branch name in your code and scripts.\n"
   ],
   "metadata": {
    "collapsed": false,
    "pycharm": {
     "name": "#%% md\n"
    }
   }
  },
  {
   "cell_type": "code",
   "execution_count": 15,
   "outputs": [],
   "source": [
    "!git branch --move master main"
   ],
   "metadata": {
    "collapsed": false,
    "pycharm": {
     "name": "#%%\n"
    }
   }
  },
  {
   "cell_type": "code",
   "execution_count": 17,
   "outputs": [
    {
     "name": "stdout",
     "output_type": "stream",
     "text": [
      "  corrected-branch-name\n",
      "* main\n",
      "  testing\n",
      "  version2\n"
     ]
    }
   ],
   "source": [
    "!git branch"
   ],
   "metadata": {
    "collapsed": false,
    "pycharm": {
     "name": "#%%\n"
    }
   }
  },
  {
   "cell_type": "markdown",
   "source": [
    "To let others see the new main branch, you need to push it to the remote."
   ],
   "metadata": {
    "collapsed": false,
    "pycharm": {
     "name": "#%% md\n"
    }
   }
  },
  {
   "cell_type": "code",
   "execution_count": 18,
   "outputs": [
    {
     "name": "stdout",
     "output_type": "stream",
     "text": [
      "branch 'main' set up to track 'origin/main'.\n"
     ]
    },
    {
     "name": "stderr",
     "output_type": "stream",
     "text": [
      "remote: \n",
      "remote: Create a pull request for 'main' on GitHub by visiting:        \n",
      "remote:      https://github.com/HuanDinh20/Learning_Progit/pull/new/main        \n",
      "remote: \n",
      "To https://github.com/HuanDinh20/Learning_Progit.git\n",
      " * [new branch]      main -> main\n"
     ]
    }
   ],
   "source": [
    "!git push --set-upstream origin main"
   ],
   "metadata": {
    "collapsed": false,
    "pycharm": {
     "name": "#%%\n"
    }
   }
  },
  {
   "cell_type": "code",
   "execution_count": 20,
   "outputs": [
    {
     "name": "stdout",
     "output_type": "stream",
     "text": [
      "  corrected-branch-name\n",
      "* main\n",
      "  testing\n",
      "  version2\n",
      "  remotes/origin/main\n",
      "  remotes/origin/master\n"
     ]
    }
   ],
   "source": [
    "!git branch --all"
   ],
   "metadata": {
    "collapsed": false,
    "pycharm": {
     "name": "#%%\n"
    }
   }
  },
  {
   "cell_type": "markdown",
   "source": [
    "Your local master branch is gone, as it’s replaced with the main branch. The main branch is present on\n",
    "the remote. However, the old master branch is still present on the remote. Other collaborators will\n",
    "continue to use the master branch as the base of their work, until you make some further changes.\n",
    "\n",
    "\n",
    "Now you have a few more tasks in front of you to complete the transition:\n",
    "1. Any projects that depend on this one will need to update their code and/or configuration.\n",
    "2. Update any test-runner configuration files\n",
    "3. Adjust build and release scripts\n",
    "4. Redirect settings on your repo host for things like the repo’s default branch, merge rules, and\n",
    "other things that match branch names\n",
    "5. Update references to the old branch in documentation.\n",
    "6. Close or merge any pull requests that target the old branch"
   ],
   "metadata": {
    "collapsed": false,
    "pycharm": {
     "name": "#%% md\n"
    }
   }
  },
  {
   "cell_type": "code",
   "execution_count": 26,
   "outputs": [
    {
     "name": "stderr",
     "output_type": "stream",
     "text": [
      "To https://github.com/HuanDinh20/Learning_Progit.git\n",
      " ! [remote rejected] master (refusing to delete the current branch: refs/heads/master)\n",
      "error: failed to push some refs to 'https://github.com/HuanDinh20/Learning_Progit.git'\n"
     ]
    }
   ],
   "source": [
    "!git push origin --delete master"
   ],
   "metadata": {
    "collapsed": false,
    "pycharm": {
     "name": "#%%\n"
    }
   }
  },
  {
   "cell_type": "code",
   "execution_count": 27,
   "outputs": [
    {
     "name": "stdout",
     "output_type": "stream",
     "text": [
      "  corrected-branch-name\n",
      "* main\n",
      "  testing\n",
      "  version2\n",
      "  remotes/origin/main\n",
      "  remotes/origin/master\n"
     ]
    }
   ],
   "source": [
    "!git branch --all"
   ],
   "metadata": {
    "collapsed": false,
    "pycharm": {
     "name": "#%%\n"
    }
   }
  },
  {
   "cell_type": "code",
   "execution_count": null,
   "outputs": [],
   "source": [],
   "metadata": {
    "collapsed": false,
    "pycharm": {
     "name": "#%%\n"
    }
   }
  }
 ],
 "metadata": {
  "kernelspec": {
   "display_name": "Python 3",
   "language": "python",
   "name": "python3"
  },
  "language_info": {
   "codemirror_mode": {
    "name": "ipython",
    "version": 2
   },
   "file_extension": ".py",
   "mimetype": "text/x-python",
   "name": "python",
   "nbconvert_exporter": "python",
   "pygments_lexer": "ipython2",
   "version": "2.7.6"
  }
 },
 "nbformat": 4,
 "nbformat_minor": 0
}